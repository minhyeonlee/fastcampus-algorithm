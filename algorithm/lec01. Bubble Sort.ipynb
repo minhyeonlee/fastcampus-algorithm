{
 "cells": [
  {
   "cell_type": "markdown",
   "metadata": {},
   "source": [
    "## 1강. 정렬1 - 버블 정렬 (Bubble Sort)"
   ]
  },
  {
   "cell_type": "markdown",
   "metadata": {},
   "source": [
    "<div class=\"alert alert-block alert-info\">\n",
    "<center><strong><font size=4em>알고리즘 연습 방법</font></strong></center>\n",
    "\n",
    "<font size=3em>1. 연습장과 펜을 준비하자.</font><br><br>\n",
    "<font size=3em>2. 알고리즘 문제를 읽고 분석한 후에,</font><br><br>\n",
    "<font size=3em>3. 간단하게 테스트용으로 매우 간단한 경우부터 복잡한 경우 순서대로 생각해보면서, 연습장과 펜을 이용하여 알고리즘을 생각해본다.</font><br><br>\n",
    "<font size=3em>4. 가능한 알고리즘이 보인다면, 구현할 알고리즘을 세부 항목으로 나누고, 문장으로 세부 항목을 나누어서 적어본다.</font><br><br>\n",
    "<font size=3em>5. 코드화하기 위해, 데이터 구조 또는 사용할 변수를 정리하고,</font><br><br>\n",
    "<font size=3em>6. 각 문장을 코드 레벨로 적는다.</font><br><br>\n",
    "<font size=3em>7. 데이터 구조 또는 사용할 변수가 코드에 따라 어떻게 변하는지를 손으로 적으면서, 임의 데이터로 코드가 정상 동작하는지를 연습장과 펜으로 검증한다.</font><br>\n",
    "</div>"
   ]
  },
  {
   "cell_type": "markdown",
   "metadata": {},
   "source": [
    "### 1. 정렬 (sorting) 이란?\n",
    "- 정렬 (sotring): 어떤 데이터들이 주어졌을 때 이를 정해진 순서대로 나열하는 것\n",
    "- 정렬은 프로그램 작성시 빈번하게 필요로 함\n",
    "> 다양한 정렬 알고리즘 이해를 통해, 동일한 문제애 대해 다양한 알고리즘이 고안될 수 있음을 이해하고, 각 알고리즘간 성능 비교를 통해, 알고리즘 성능 분석에 대해서도 이해할 수 있음 "
   ]
  },
  {
   "cell_type": "markdown",
   "metadata": {},
   "source": [
    "2. 버블 정렬 (bubble sort) 란?\n",
    "- 두 인접한 데이터를 비교해서, 앞에 있는 데이터가 뒤에 있는 데이터보다 크면, 자리를 바꾸는 정렬 알고리즘\n",
    "\n",
    "<img src=\"https://upload.wikimedia.org/wikipedia/commons/c/c8/Bubble-sort-example-300px.gif\" width=600/>\n",
    "\n",
    "> 출처: https://en.wikipedia.org/wiki/Bubble_sort"
   ]
  },
  {
   "cell_type": "markdown",
   "metadata": {},
   "source": [
    "### 3. 어떻게 코드로 만들까?\n",
    "> 알고리즘 연습 방법에 기반하여 단계별로 생각해본다."
   ]
  },
  {
   "cell_type": "markdown",
   "metadata": {},
   "source": [
    "* 데이터가 네 개 일때 (데이터 갯수에 따라 복잡도가 떨어지는 것은 아니므로, 네 개로 바로 로직을 이해해보자.)\n",
    "  - 예: data_list = [1, 9, 3, 2]\n",
    "    - 1차 로직 적용\n",
    "      - 1 와 9 비교, 자리바꿈없음 [1, 9, 3, 2]\n",
    "      - 9 와 3 비교, 자리바꿈 [1, 3, 9, 2]\n",
    "      - 9 와 2 비교, 자리바꿈 [1, 3, 2, 9]\n",
    "    - 2차 로직 적용\n",
    "      - 1 와 3 비교, 자리바꿈없음 [1, 3, 2, 9]\n",
    "      - 3 과 2 비교, 자리바꿈 [1, 2, 3, 9]\n",
    "      - 3 와 9 비교, 자리바꿈없음 [1, 2, 3, 9]\n",
    "    - 3차 로직 적용\n",
    "      - 1 과 2 비교, 자리바꿈없음 [1, 2, 3, 9]\n",
    "      - 2 과 3 비교, 자리바꿈없음 [1, 2, 3, 9]\n",
    "      - 3 과 9 비교, 자리바꿈없음 [1, 2, 3, 9]"
   ]
  },
  {
   "cell_type": "markdown",
   "metadata": {},
   "source": [
    "### 4. 알고리즘 구현\n",
    "- 특이점 찾아보기\n",
    "    - n개의 리스트가 있는 경우 최대 n-1번의 로직을 적용한다.\n",
    "    - 로직을 1번 적용할 때마다 가장 큰 숫자가 뒤에서부터 1개씩 결정된다.\n",
    "    - 로직이 경우에 따라 일찍 끝날 수도 있다. 따라서 로직을 적용할 때 한 번도 데이터가 교환된 적이 없다면 이미 정렬된 상태이므로 더 이상 로직을 반복 적용할 필요가 없다.\n",
    "    \n",
    "<img src=\"https://www.fun-coding.org/00_Images/bubblealgo.png\" />"
   ]
  },
  {
   "cell_type": "markdown",
   "metadata": {},
   "source": [
    "1. for num in range(len(data_list)) 반복\n",
    "2. swap = 0 (교환이 되었는지를 확인하는 변수를 두자)\n",
    "2. 반복문 안에서, for index in range(len(data_list) - num - 1) n - 1번 반복해야 하므로\n",
    "3. 반복문안의 반복문 안에서, if data_list[index] > data_list[index + 1] 이면\n",
    "4.                data_list[index], data_list[index + 1] = data_list[index + 1], data_list[index]\n",
    "5.                swap += 1\n",
    "6. 반복문 안에서, if swap == 0 이면, break 끝"
   ]
  },
  {
   "cell_type": "code",
   "execution_count": 1,
   "metadata": {},
   "outputs": [],
   "source": [
    "def bubblesort(data):\n",
    "    for index in range(len(data) - 1):\n",
    "        swap = False\n",
    "        for index2 in range(len(data) - index - 1):\n",
    "            if data[index2] > data[index2 + 1]:\n",
    "                data[index2], data[index2 + 1] = data[index2 + 1], data[index2]\n",
    "                swap = True\n",
    "            \n",
    "        if swap == False:\n",
    "                break\n",
    "    return data"
   ]
  },
  {
   "cell_type": "code",
   "execution_count": 2,
   "metadata": {},
   "outputs": [
    {
     "name": "stdout",
     "output_type": "stream",
     "text": [
      "[0, 3, 8, 9, 10, 11, 13, 14, 16, 17, 18, 21, 22, 23, 26, 27, 28, 30, 32, 33, 35, 42, 44, 49, 53, 54, 56, 57, 59, 61, 65, 67, 69, 70, 71, 73, 74, 77, 80, 83, 84, 85, 87, 88, 89, 93, 94, 95, 97, 99]\n",
      "[0, 2, 5, 6, 14, 16, 17, 21, 22, 25, 26, 27, 30, 34, 36, 37, 38, 40, 41, 42, 46, 48, 49, 50, 51, 52, 54, 55, 56, 59, 62, 63, 65, 66, 71, 72, 73, 75, 78, 79, 81, 82, 84, 87, 88, 91, 95, 97, 98, 99]\n",
      "[0, 2, 3, 4, 8, 10, 11, 12, 18, 19, 22, 23, 26, 29, 33, 34, 35, 39, 43, 44, 45, 46, 47, 49, 50, 52, 53, 54, 57, 58, 59, 62, 66, 67, 68, 69, 72, 73, 74, 75, 78, 79, 81, 84, 86, 88, 89, 93, 95, 99]\n",
      "[4, 7, 8, 9, 13, 14, 16, 17, 20, 21, 24, 25, 27, 28, 30, 33, 34, 37, 38, 40, 42, 44, 48, 49, 50, 51, 52, 53, 54, 56, 57, 58, 63, 66, 67, 71, 72, 74, 76, 77, 80, 81, 82, 84, 86, 89, 91, 94, 95, 98]\n",
      "[2, 3, 5, 7, 8, 10, 11, 12, 13, 14, 16, 17, 18, 20, 24, 27, 30, 33, 34, 37, 38, 41, 43, 46, 47, 50, 53, 56, 63, 66, 68, 69, 70, 71, 74, 75, 79, 81, 83, 84, 87, 88, 89, 90, 91, 93, 94, 97, 98, 99]\n"
     ]
    }
   ],
   "source": [
    "import random\n",
    "data_list = random.sample(range(100), 50)\n",
    "\n",
    "for index in range(5):\n",
    "    data_list = random.sample(range(100), 50)\n",
    "    print(bubblesort(data_list))"
   ]
  },
  {
   "cell_type": "markdown",
   "metadata": {},
   "source": [
    "### 5. 알고리즘 분석\n",
    "- 반복문이 두 개 O($n^2$)\n",
    "  - 최악의 경우, <font size=5em>$\\frac { n * (n - 1)}{ 2 }$</font>\n",
    "- 완전 정렬이 되어 있는 상태라면 최선은 O(n)"
   ]
  }
 ],
 "metadata": {
  "kernelspec": {
   "display_name": "Python 3",
   "language": "python",
   "name": "python3"
  },
  "language_info": {
   "codemirror_mode": {
    "name": "ipython",
    "version": 3
   },
   "file_extension": ".py",
   "mimetype": "text/x-python",
   "name": "python",
   "nbconvert_exporter": "python",
   "pygments_lexer": "ipython3",
   "version": "3.7.6"
  }
 },
 "nbformat": 4,
 "nbformat_minor": 4
}
